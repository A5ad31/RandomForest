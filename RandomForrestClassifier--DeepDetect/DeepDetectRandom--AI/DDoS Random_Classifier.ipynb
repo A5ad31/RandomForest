{
 "cells": [
  {
   "cell_type": "code",
   "execution_count": 1,
   "metadata": {},
   "outputs": [],
   "source": [
    "import os\n",
    "import pandas as pd\n",
    "import numpy as np\n",
    "import pickle\n",
    "from sklearn.preprocessing import *\n",
    "from sklearn.ensemble import RandomForestClassifier\n",
    "from sklearn.utils.class_weight import compute_class_weight\n",
    "import time\n",
    "from sklearn.utils.class_weight import compute_class_weight\n",
    "\n",
    "import matplotlib.pyplot as plt\n",
    "%matplotlib inline\n",
    "\n"
   ]
  },
  {
   "cell_type": "code",
   "execution_count": 2,
   "metadata": {},
   "outputs": [],
   "source": [
    "def create_new_experiment_dir(exp_base_dir):\n",
    "    def get_unique_name(): return time.strftime(\"%Y%m%d-%H%M%S\")\n",
    "\n",
    "    exp_base_dir = os.path.abspath(os.path.expanduser(exp_base_dir))\n",
    "    if exp_base_dir[-1] != '/':\n",
    "        exp_base_dir += '/'\n",
    "\n",
    "    # Create new experiment directory\n",
    "    exp_dir = exp_base_dir + get_unique_name() + '/'\n",
    "    os.makedirs(exp_dir)\n",
    "\n",
    "    os.makedirs(exp_dir + 'pickle_dump/')\n",
    "    os.makedirs(exp_dir + 'logs/')\n",
    "\n",
    "    return exp_dir"
   ]
  },
  {
   "cell_type": "code",
   "execution_count": 4,
   "metadata": {},
   "outputs": [
    {
     "name": "stdout",
     "output_type": "stream",
     "text": [
      "['destination_port', 'flow_duration', 'total_fwd_packets', 'total_backward_packets', 'total_length_of_fwd_packets', 'total_length_of_bwd_packets', 'fwd_packet_length_max', 'fwd_packet_length_min', 'fwd_packet_length_mean', 'fwd_packet_length_std', 'bwd_packet_length_max', 'bwd_packet_length_min', 'bwd_packet_length_mean', 'bwd_packet_length_std', 'flow_bytes', 'flow_packets', 'flow_iat_mean', 'flow_iat_std', 'flow_iat_max', 'flow_iat_min', 'fwd_iat_total', 'fwd_iat_mean', 'fwd_iat_std', 'fwd_iat_max', 'fwd_iat_min', 'bwd_iat_total', 'bwd_iat_mean', 'bwd_iat_std', 'bwd_iat_max', 'bwd_iat_min', 'fwd_psh_flags', 'bwd_psh_flags', 'fwd_urg_flags', 'bwd_urg_flags', 'fwd_header_length', 'bwd_header_length', 'fwd_packets', 'bwd_packets', 'min_packet_length', 'max_packet_length', 'packet_length_mean', 'packet_length_std', 'packet_length_variance', 'fin_flag_count', 'syn_flag_count', 'rst_flag_count', 'psh_flag_count', 'ack_flag_count', 'urg_flag_count', 'cwe_flag_count', 'ece_flag_count', 'down_up_ratio', 'average_packet_size', 'avg_fwd_segment_size', 'avg_bwd_segment_size', 'fwd_avg_bytes_bulk', 'fwd_avg_packets_bulk', 'fwd_avg_bulk_rate', 'bwd_avg_bytes_bulk', 'bwd_avg_packets_bulk', 'bwd_avg_bulk_rate', 'subflow_fwd_packets', 'subflow_fwd_bytes', 'subflow_bwd_packets', 'subflow_bwd_bytes', 'init_win_bytes_forward', 'init_win_bytes_backward', 'act_data_pkt_fwd', 'min_seg_size_forward', 'active_mean', 'active_std', 'active_max', 'active_min', 'idle_mean', 'idle_std', 'idle_max', 'idle_min']\n"
     ]
    }
   ],
   "source": [
    "data_df = pd.read_csv('/home/zunaira/Downloads/DDOS_CleanDataset/CICFlowData_clean.csv')\n",
    "feat = list(data_df.columns)\n",
    "#feat.remove('flow_id')\n",
    "feat.remove('label')\n",
    "print (feat)"
   ]
  },
  {
   "cell_type": "code",
   "execution_count": 5,
   "metadata": {},
   "outputs": [
    {
     "data": {
      "text/html": [
       "<div>\n",
       "<style scoped>\n",
       "    .dataframe tbody tr th:only-of-type {\n",
       "        vertical-align: middle;\n",
       "    }\n",
       "\n",
       "    .dataframe tbody tr th {\n",
       "        vertical-align: top;\n",
       "    }\n",
       "\n",
       "    .dataframe thead th {\n",
       "        text-align: right;\n",
       "    }\n",
       "</style>\n",
       "<table border=\"1\" class=\"dataframe\">\n",
       "  <thead>\n",
       "    <tr style=\"text-align: right;\">\n",
       "      <th></th>\n",
       "      <th>destination_port</th>\n",
       "      <th>flow_duration</th>\n",
       "      <th>total_fwd_packets</th>\n",
       "      <th>total_backward_packets</th>\n",
       "      <th>total_length_of_fwd_packets</th>\n",
       "      <th>total_length_of_bwd_packets</th>\n",
       "      <th>fwd_packet_length_max</th>\n",
       "      <th>fwd_packet_length_min</th>\n",
       "      <th>fwd_packet_length_mean</th>\n",
       "      <th>fwd_packet_length_std</th>\n",
       "      <th>...</th>\n",
       "      <th>min_seg_size_forward</th>\n",
       "      <th>active_mean</th>\n",
       "      <th>active_std</th>\n",
       "      <th>active_max</th>\n",
       "      <th>active_min</th>\n",
       "      <th>idle_mean</th>\n",
       "      <th>idle_std</th>\n",
       "      <th>idle_max</th>\n",
       "      <th>idle_min</th>\n",
       "      <th>label</th>\n",
       "    </tr>\n",
       "  </thead>\n",
       "  <tbody>\n",
       "    <tr>\n",
       "      <th>313830</th>\n",
       "      <td>80</td>\n",
       "      <td>996</td>\n",
       "      <td>5</td>\n",
       "      <td>0</td>\n",
       "      <td>0</td>\n",
       "      <td>0</td>\n",
       "      <td>0</td>\n",
       "      <td>0</td>\n",
       "      <td>0.000000</td>\n",
       "      <td>0.000000</td>\n",
       "      <td>...</td>\n",
       "      <td>32</td>\n",
       "      <td>0.0</td>\n",
       "      <td>0.0</td>\n",
       "      <td>0</td>\n",
       "      <td>0</td>\n",
       "      <td>0.0</td>\n",
       "      <td>0.0</td>\n",
       "      <td>0</td>\n",
       "      <td>0</td>\n",
       "      <td>DoS Hulk</td>\n",
       "    </tr>\n",
       "    <tr>\n",
       "      <th>100841</th>\n",
       "      <td>80</td>\n",
       "      <td>85105272</td>\n",
       "      <td>6</td>\n",
       "      <td>5</td>\n",
       "      <td>371</td>\n",
       "      <td>11595</td>\n",
       "      <td>371</td>\n",
       "      <td>0</td>\n",
       "      <td>61.833333</td>\n",
       "      <td>151.460116</td>\n",
       "      <td>...</td>\n",
       "      <td>32</td>\n",
       "      <td>986.0</td>\n",
       "      <td>0.0</td>\n",
       "      <td>986</td>\n",
       "      <td>986</td>\n",
       "      <td>85000000.0</td>\n",
       "      <td>0.0</td>\n",
       "      <td>85000000</td>\n",
       "      <td>85000000</td>\n",
       "      <td>DoS Hulk</td>\n",
       "    </tr>\n",
       "    <tr>\n",
       "      <th>437811</th>\n",
       "      <td>53</td>\n",
       "      <td>59263916</td>\n",
       "      <td>2</td>\n",
       "      <td>2</td>\n",
       "      <td>90</td>\n",
       "      <td>122</td>\n",
       "      <td>47</td>\n",
       "      <td>43</td>\n",
       "      <td>45.000000</td>\n",
       "      <td>2.828427</td>\n",
       "      <td>...</td>\n",
       "      <td>20</td>\n",
       "      <td>282952.0</td>\n",
       "      <td>0.0</td>\n",
       "      <td>282952</td>\n",
       "      <td>282952</td>\n",
       "      <td>59000000.0</td>\n",
       "      <td>0.0</td>\n",
       "      <td>59000000</td>\n",
       "      <td>59000000</td>\n",
       "      <td>BENIGN</td>\n",
       "    </tr>\n",
       "    <tr>\n",
       "      <th>540553</th>\n",
       "      <td>53</td>\n",
       "      <td>48757</td>\n",
       "      <td>2</td>\n",
       "      <td>2</td>\n",
       "      <td>68</td>\n",
       "      <td>132</td>\n",
       "      <td>34</td>\n",
       "      <td>34</td>\n",
       "      <td>34.000000</td>\n",
       "      <td>0.000000</td>\n",
       "      <td>...</td>\n",
       "      <td>32</td>\n",
       "      <td>0.0</td>\n",
       "      <td>0.0</td>\n",
       "      <td>0</td>\n",
       "      <td>0</td>\n",
       "      <td>0.0</td>\n",
       "      <td>0.0</td>\n",
       "      <td>0</td>\n",
       "      <td>0</td>\n",
       "      <td>BENIGN</td>\n",
       "    </tr>\n",
       "    <tr>\n",
       "      <th>629957</th>\n",
       "      <td>53</td>\n",
       "      <td>31524</td>\n",
       "      <td>2</td>\n",
       "      <td>2</td>\n",
       "      <td>78</td>\n",
       "      <td>214</td>\n",
       "      <td>39</td>\n",
       "      <td>39</td>\n",
       "      <td>39.000000</td>\n",
       "      <td>0.000000</td>\n",
       "      <td>...</td>\n",
       "      <td>32</td>\n",
       "      <td>0.0</td>\n",
       "      <td>0.0</td>\n",
       "      <td>0</td>\n",
       "      <td>0</td>\n",
       "      <td>0.0</td>\n",
       "      <td>0.0</td>\n",
       "      <td>0</td>\n",
       "      <td>0</td>\n",
       "      <td>BENIGN</td>\n",
       "    </tr>\n",
       "    <tr>\n",
       "      <th>563061</th>\n",
       "      <td>53</td>\n",
       "      <td>320</td>\n",
       "      <td>2</td>\n",
       "      <td>2</td>\n",
       "      <td>88</td>\n",
       "      <td>188</td>\n",
       "      <td>44</td>\n",
       "      <td>44</td>\n",
       "      <td>44.000000</td>\n",
       "      <td>0.000000</td>\n",
       "      <td>...</td>\n",
       "      <td>32</td>\n",
       "      <td>0.0</td>\n",
       "      <td>0.0</td>\n",
       "      <td>0</td>\n",
       "      <td>0</td>\n",
       "      <td>0.0</td>\n",
       "      <td>0.0</td>\n",
       "      <td>0</td>\n",
       "      <td>0</td>\n",
       "      <td>BENIGN</td>\n",
       "    </tr>\n",
       "    <tr>\n",
       "      <th>205950</th>\n",
       "      <td>52164</td>\n",
       "      <td>3</td>\n",
       "      <td>2</td>\n",
       "      <td>0</td>\n",
       "      <td>37</td>\n",
       "      <td>0</td>\n",
       "      <td>31</td>\n",
       "      <td>6</td>\n",
       "      <td>18.500000</td>\n",
       "      <td>17.677670</td>\n",
       "      <td>...</td>\n",
       "      <td>20</td>\n",
       "      <td>0.0</td>\n",
       "      <td>0.0</td>\n",
       "      <td>0</td>\n",
       "      <td>0</td>\n",
       "      <td>0.0</td>\n",
       "      <td>0.0</td>\n",
       "      <td>0</td>\n",
       "      <td>0</td>\n",
       "      <td>BENIGN</td>\n",
       "    </tr>\n",
       "    <tr>\n",
       "      <th>306501</th>\n",
       "      <td>53</td>\n",
       "      <td>212</td>\n",
       "      <td>2</td>\n",
       "      <td>2</td>\n",
       "      <td>76</td>\n",
       "      <td>180</td>\n",
       "      <td>38</td>\n",
       "      <td>38</td>\n",
       "      <td>38.000000</td>\n",
       "      <td>0.000000</td>\n",
       "      <td>...</td>\n",
       "      <td>32</td>\n",
       "      <td>0.0</td>\n",
       "      <td>0.0</td>\n",
       "      <td>0</td>\n",
       "      <td>0</td>\n",
       "      <td>0.0</td>\n",
       "      <td>0.0</td>\n",
       "      <td>0</td>\n",
       "      <td>0</td>\n",
       "      <td>BENIGN</td>\n",
       "    </tr>\n",
       "    <tr>\n",
       "      <th>81313</th>\n",
       "      <td>80</td>\n",
       "      <td>153657</td>\n",
       "      <td>3</td>\n",
       "      <td>7</td>\n",
       "      <td>371</td>\n",
       "      <td>11595</td>\n",
       "      <td>371</td>\n",
       "      <td>0</td>\n",
       "      <td>123.666667</td>\n",
       "      <td>214.196950</td>\n",
       "      <td>...</td>\n",
       "      <td>32</td>\n",
       "      <td>0.0</td>\n",
       "      <td>0.0</td>\n",
       "      <td>0</td>\n",
       "      <td>0</td>\n",
       "      <td>0.0</td>\n",
       "      <td>0.0</td>\n",
       "      <td>0</td>\n",
       "      <td>0</td>\n",
       "      <td>DoS Hulk</td>\n",
       "    </tr>\n",
       "    <tr>\n",
       "      <th>156604</th>\n",
       "      <td>80</td>\n",
       "      <td>98896332</td>\n",
       "      <td>7</td>\n",
       "      <td>6</td>\n",
       "      <td>375</td>\n",
       "      <td>11595</td>\n",
       "      <td>375</td>\n",
       "      <td>0</td>\n",
       "      <td>53.571429</td>\n",
       "      <td>141.736677</td>\n",
       "      <td>...</td>\n",
       "      <td>32</td>\n",
       "      <td>979.0</td>\n",
       "      <td>0.0</td>\n",
       "      <td>979</td>\n",
       "      <td>979</td>\n",
       "      <td>98900000.0</td>\n",
       "      <td>0.0</td>\n",
       "      <td>98900000</td>\n",
       "      <td>98900000</td>\n",
       "      <td>DoS Hulk</td>\n",
       "    </tr>\n",
       "  </tbody>\n",
       "</table>\n",
       "<p>10 rows × 78 columns</p>\n",
       "</div>"
      ],
      "text/plain": [
       "        destination_port  flow_duration  total_fwd_packets  \\\n",
       "313830                80            996                  5   \n",
       "100841                80       85105272                  6   \n",
       "437811                53       59263916                  2   \n",
       "540553                53          48757                  2   \n",
       "629957                53          31524                  2   \n",
       "563061                53            320                  2   \n",
       "205950             52164              3                  2   \n",
       "306501                53            212                  2   \n",
       "81313                 80         153657                  3   \n",
       "156604                80       98896332                  7   \n",
       "\n",
       "        total_backward_packets  total_length_of_fwd_packets  \\\n",
       "313830                       0                            0   \n",
       "100841                       5                          371   \n",
       "437811                       2                           90   \n",
       "540553                       2                           68   \n",
       "629957                       2                           78   \n",
       "563061                       2                           88   \n",
       "205950                       0                           37   \n",
       "306501                       2                           76   \n",
       "81313                        7                          371   \n",
       "156604                       6                          375   \n",
       "\n",
       "        total_length_of_bwd_packets  fwd_packet_length_max  \\\n",
       "313830                            0                      0   \n",
       "100841                        11595                    371   \n",
       "437811                          122                     47   \n",
       "540553                          132                     34   \n",
       "629957                          214                     39   \n",
       "563061                          188                     44   \n",
       "205950                            0                     31   \n",
       "306501                          180                     38   \n",
       "81313                         11595                    371   \n",
       "156604                        11595                    375   \n",
       "\n",
       "        fwd_packet_length_min  fwd_packet_length_mean  fwd_packet_length_std  \\\n",
       "313830                      0                0.000000               0.000000   \n",
       "100841                      0               61.833333             151.460116   \n",
       "437811                     43               45.000000               2.828427   \n",
       "540553                     34               34.000000               0.000000   \n",
       "629957                     39               39.000000               0.000000   \n",
       "563061                     44               44.000000               0.000000   \n",
       "205950                      6               18.500000              17.677670   \n",
       "306501                     38               38.000000               0.000000   \n",
       "81313                       0              123.666667             214.196950   \n",
       "156604                      0               53.571429             141.736677   \n",
       "\n",
       "          ...     min_seg_size_forward  active_mean  active_std  active_max  \\\n",
       "313830    ...                       32          0.0         0.0           0   \n",
       "100841    ...                       32        986.0         0.0         986   \n",
       "437811    ...                       20     282952.0         0.0      282952   \n",
       "540553    ...                       32          0.0         0.0           0   \n",
       "629957    ...                       32          0.0         0.0           0   \n",
       "563061    ...                       32          0.0         0.0           0   \n",
       "205950    ...                       20          0.0         0.0           0   \n",
       "306501    ...                       32          0.0         0.0           0   \n",
       "81313     ...                       32          0.0         0.0           0   \n",
       "156604    ...                       32        979.0         0.0         979   \n",
       "\n",
       "        active_min   idle_mean  idle_std  idle_max  idle_min     label  \n",
       "313830           0         0.0       0.0         0         0  DoS Hulk  \n",
       "100841         986  85000000.0       0.0  85000000  85000000  DoS Hulk  \n",
       "437811      282952  59000000.0       0.0  59000000  59000000    BENIGN  \n",
       "540553           0         0.0       0.0         0         0    BENIGN  \n",
       "629957           0         0.0       0.0         0         0    BENIGN  \n",
       "563061           0         0.0       0.0         0         0    BENIGN  \n",
       "205950           0         0.0       0.0         0         0    BENIGN  \n",
       "306501           0         0.0       0.0         0         0    BENIGN  \n",
       "81313            0         0.0       0.0         0         0  DoS Hulk  \n",
       "156604         979  98900000.0       0.0  98900000  98900000  DoS Hulk  \n",
       "\n",
       "[10 rows x 78 columns]"
      ]
     },
     "execution_count": 5,
     "metadata": {},
     "output_type": "execute_result"
    }
   ],
   "source": [
    "data_df.sample(10)"
   ]
  },
  {
   "cell_type": "code",
   "execution_count": 17,
   "metadata": {},
   "outputs": [],
   "source": [
    "feat = filter(lambda x: x not in ['source_port', 'destination_port', 'protocol'], feat)\n"
   ]
  },
  {
   "cell_type": "code",
   "execution_count": 21,
   "metadata": {},
   "outputs": [
    {
     "name": "stdout",
     "output_type": "stream",
     "text": [
      "['flow_duration', 'total_fwd_packets', 'total_backward_packets', 'total_length_of_fwd_packets', 'total_length_of_bwd_packets', 'fwd_packet_length_max', 'fwd_packet_length_min', 'fwd_packet_length_mean', 'fwd_packet_length_std', 'bwd_packet_length_max', 'bwd_packet_length_min', 'bwd_packet_length_mean', 'bwd_packet_length_std', 'flow_bytes', 'flow_packets', 'flow_iat_mean', 'flow_iat_std', 'flow_iat_max', 'flow_iat_min', 'fwd_iat_total', 'fwd_iat_mean', 'fwd_iat_std', 'fwd_iat_max', 'fwd_iat_min', 'bwd_iat_total', 'bwd_iat_mean', 'bwd_iat_std', 'bwd_iat_max', 'bwd_iat_min', 'fwd_psh_flags', 'bwd_psh_flags', 'fwd_urg_flags', 'bwd_urg_flags', 'fwd_header_length', 'bwd_header_length', 'fwd_packets', 'bwd_packets', 'min_packet_length', 'max_packet_length', 'packet_length_mean', 'packet_length_std', 'packet_length_variance', 'fin_flag_count', 'syn_flag_count', 'rst_flag_count', 'psh_flag_count', 'ack_flag_count', 'urg_flag_count', 'cwe_flag_count', 'ece_flag_count', 'down_up_ratio', 'average_packet_size', 'avg_fwd_segment_size', 'avg_bwd_segment_size', 'fwd_avg_bytes_bulk', 'fwd_avg_packets_bulk', 'fwd_avg_bulk_rate', 'bwd_avg_bytes_bulk', 'bwd_avg_packets_bulk', 'bwd_avg_bulk_rate', 'subflow_fwd_packets', 'subflow_fwd_bytes', 'subflow_bwd_packets', 'subflow_bwd_bytes', 'init_win_bytes_forward', 'init_win_bytes_backward', 'act_data_pkt_fwd', 'min_seg_size_forward', 'active_mean', 'active_std', 'active_max', 'active_min', 'idle_mean', 'idle_std', 'idle_max', 'idle_min']\n"
     ]
    }
   ],
   "source": [
    "print (list(feat))"
   ]
  },
  {
   "cell_type": "code",
   "execution_count": 7,
   "metadata": {},
   "outputs": [
    {
     "data": {
      "text/plain": [
       "array(['BENIGN', 'DoS slowloris', 'DoS Slowhttptest', 'DoS Hulk',\n",
       "       'DoS GoldenEye'], dtype=object)"
      ]
     },
     "execution_count": 7,
     "metadata": {},
     "output_type": "execute_result"
    }
   ],
   "source": [
    "data_df.label.unique()"
   ]
  },
  {
   "cell_type": "code",
   "execution_count": 8,
   "metadata": {},
   "outputs": [],
   "source": [
    "labels = {'BENIGN': 0, 'DoS slowloris': 1, 'DoS Slowhttptest': 2, 'DoS Hulk': 3,\n",
    "       'DoS GoldenEye': 4}\n",
    "classes = len(labels.keys())\n",
    "for k, v in labels.items():\n",
    "   data_df.loc[data_df.label == k, 'enclabel'] = v"
   ]
  },
  {
   "cell_type": "code",
   "execution_count": 9,
   "metadata": {},
   "outputs": [
    {
     "name": "stdout",
     "output_type": "stream",
     "text": [
      "Data Label counts:\n",
      "BENIGN flows count: 439683  Percentage: 63.59%\n",
      "DoS slowloris flows count: 5796  Percentage: 0.84%\n",
      "DoS Slowhttptest flows count: 5499  Percentage: 0.80%\n",
      "DoS Hulk flows count: 230124  Percentage: 33.28%\n",
      "DoS GoldenEye flows count: 10293  Percentage: 1.49%\n"
     ]
    },
    {
     "data": {
      "text/plain": [
       "array([ 0.31449704, 23.85766046, 25.1462084 ,  0.60088909, 13.43427572])"
      ]
     },
     "metadata": {},
     "output_type": "display_data"
    }
   ],
   "source": [
    "print ('Data Label counts:')\n",
    "class_weights = {}\n",
    "for k, v in labels.items():\n",
    "    count = (data_df.enclabel == v).sum()\n",
    "    p = (count / float(data_df.shape[0])) * 100\n",
    "    class_weights[v] = p\n",
    "    print (('%s flows count: %d  Percentage: %.2f%%') % (k, count, p))\n",
    "comp_cls_wt = compute_class_weight(\n",
    "    'balanced', data_df.enclabel.unique(), data_df.enclabel)\n",
    "display(comp_cls_wt)"
   ]
  },
  {
   "cell_type": "code",
   "execution_count": 10,
   "metadata": {},
   "outputs": [],
   "source": [
    "from sklearn.model_selection import train_test_split"
   ]
  },
  {
   "cell_type": "code",
   "execution_count": 22,
   "metadata": {},
   "outputs": [],
   "source": [
    "X = data_df[feat].values\n",
    "y = data_df['enclabel'].values"
   ]
  },
  {
   "cell_type": "code",
   "execution_count": 53,
   "metadata": {},
   "outputs": [],
   "source": [
    "#splitting into training and testing\n",
    "X_train, X_test, y_train, y_test = train_test_split(\n",
    "   X, y, train_size=0.8, test_size=0.2,stratify=y)"
   ]
  },
  {
   "cell_type": "code",
   "execution_count": 54,
   "metadata": {},
   "outputs": [],
   "source": [
    "# Splitting Train Validation\n",
    "X_train, X_val, y_train, y_val = train_test_split(\n",
    "    X_train, y_train, train_size=0.8,test_size=0.2, stratify=y_train)"
   ]
  },
  {
   "cell_type": "code",
   "execution_count": 55,
   "metadata": {},
   "outputs": [
    {
     "name": "stdout",
     "output_type": "stream",
     "text": [
      "Train data: (442492, 76)\n",
      "Train labels:(442492,)\n",
      "Validation data:(110624, 76)\n",
      "Validation labels:(110624,)\n",
      "Test data: (138279, 76)\n",
      "Test labels (138279,)\n"
     ]
    }
   ],
   "source": [
    "print (f'Train data: {X_train.shape}')\n",
    "print (f'Train labels:{y_train.shape}')\n",
    "print (f'Validation data:{X_val.shape}')\n",
    "print (f'Validation labels:{y_val.shape}')\n",
    "print (f'Test data: {X_test.shape}')\n",
    "print (f'Test labels {y_test.shape}')"
   ]
  },
  {
   "cell_type": "code",
   "execution_count": 56,
   "metadata": {},
   "outputs": [
    {
     "name": "stdout",
     "output_type": "stream",
     "text": [
      "Training data:\n",
      "BENIGN flows count:6587\n",
      "DoS slowloris flows count:6587\n",
      "DoS Slowhttptest flows count:6587\n",
      "DoS Hulk flows count:6587\n",
      "DoS GoldenEye flows count:6587\n"
     ]
    }
   ],
   "source": [
    "td= (y_train == v).sum()\n",
    "vd= (y_val == v).sum()\n",
    "tstd= (y_test == v).sum()\n",
    "\n",
    "print (\"Training data:\")\n",
    "for k, v in labels.items():\n",
    "    print (\"%s flows count:%s\" % (k,td))\n",
    "\n",
    "\n",
    "#print ('/n',\"Validation data:\")\n",
    "#for k, v in labels.items():\n",
    "#print (\"%s flows count:%s\" % (k,vd))\n",
    " \n",
    "\n",
    "#print (\"Testing data:\")\n",
    "#for k, v in labels.items():\n",
    " #   print (\"%s flows count:%s\" % (k,tstd))\n"
   ]
  },
  {
   "cell_type": "code",
   "execution_count": 57,
   "metadata": {},
   "outputs": [
    {
     "name": "stdout",
     "output_type": "stream",
     "text": [
      "Benign flows: 63.59360423491637%\n",
      "Attack flows: 36.40639576508364%\n"
     ]
    }
   ],
   "source": [
    "B_perc= (data_df['enclabel'] == labels['BENIGN']).sum() / float(data_df.shape[0]) * 100\n",
    "print (f'Benign flows: {(B_perc)}%')\n",
    "Atck_perc= ((data_df['enclabel'] != labels['BENIGN']).sum() / float(data_df.shape[0]) * 100)\n",
    "print (f'Attack flows: {Atck_perc}%') "
   ]
  },
  {
   "cell_type": "code",
   "execution_count": 58,
   "metadata": {},
   "outputs": [],
   "source": [
    "#Create a Gaussian Classifier\n",
    "clf=RandomForestClassifier(n_estimators=100)\n",
    "\n",
    "#Train the model using the training sets y_pred=clf.predict(X_test)\n",
    "clf.fit(X_train,y_train)\n",
    "\n",
    "y_pred=clf.predict(X_test)"
   ]
  },
  {
   "cell_type": "code",
   "execution_count": 48,
   "metadata": {},
   "outputs": [],
   "source": [
    "#Create a Gaussian Classifier\n",
    "clf_tst=RandomForestClassifier(n_estimators=100)\n",
    "\n",
    "#Train the model using the test sets y_pred=clf.predict(X_test)\n",
    "clf_tst.fit(X_test,y_test)\n",
    "\n",
    "y_pred_tstData=clf_tst.predict(X_test)"
   ]
  },
  {
   "cell_type": "code",
   "execution_count": 39,
   "metadata": {},
   "outputs": [
    {
     "name": "stdout",
     "output_type": "stream",
     "text": [
      "Accuracy: 0.9990092494160357\n"
     ]
    }
   ],
   "source": [
    "#Import scikit-learn metrics module for accuracy calculation\n",
    "from sklearn import metrics\n",
    "# Model Accuracy, how often is the classifier correct?\n",
    "print(\"Accuracy:\",metrics.accuracy_score(y_test, y_pred))"
   ]
  },
  {
   "cell_type": "code",
   "execution_count": 49,
   "metadata": {},
   "outputs": [
    {
     "name": "stdout",
     "output_type": "stream",
     "text": [
      "Accuracy: 0.999956609463476\n"
     ]
    }
   ],
   "source": [
    "#Accuracy [test_data]\n",
    "# Model Accuracy, how often is the classifier correct?\n",
    "print(\"Accuracy:\",metrics.accuracy_score(y_test, y_pred_tstData))"
   ]
  },
  {
   "cell_type": "code",
   "execution_count": 47,
   "metadata": {},
   "outputs": [],
   "source": [
    "#RandomForestClassifier(bootstrap=True, class_weight=None, criterion='gini',\n",
    " #           max_depth=None, max_features='auto', max_leaf_nodes=None,\n",
    "  #          min_impurity_decrease=0.0, min_impurity_split=None,\n",
    "   #         min_samples_leaf=1, min_samples_split=2,\n",
    "    #        min_weight_fraction_leaf=0.0, n_estimators=100, n_jobs=1,\n",
    "     #       oob_score=False, random_state=None, verbose=0,\n",
    "      #      warm_start=False)"
   ]
  },
  {
   "cell_type": "code",
   "execution_count": 42,
   "metadata": {},
   "outputs": [
    {
     "data": {
      "text/plain": [
       "bwd_packet_length_std          0.111795\n",
       "bwd_packet_length_mean         0.075837\n",
       "packet_length_mean             0.047966\n",
       "bwd_packets                    0.047453\n",
       "average_packet_size            0.047267\n",
       "bwd_packet_length_max          0.044673\n",
       "init_win_bytes_forward         0.043336\n",
       "avg_bwd_segment_size           0.040478\n",
       "packet_length_std              0.037504\n",
       "subflow_bwd_bytes              0.028715\n",
       "max_packet_length              0.024705\n",
       "fwd_packet_length_mean         0.020927\n",
       "packet_length_variance         0.019967\n",
       "flow_bytes                     0.019635\n",
       "fwd_packets                    0.019127\n",
       "fwd_packet_length_max          0.018526\n",
       "idle_max                       0.017333\n",
       "flow_iat_mean                  0.017130\n",
       "subflow_bwd_packets            0.017076\n",
       "total_length_of_bwd_packets    0.016875\n",
       "subflow_fwd_bytes              0.016301\n",
       "fwd_iat_max                    0.016070\n",
       "avg_fwd_segment_size           0.014659\n",
       "flow_iat_std                   0.013837\n",
       "idle_min                       0.013797\n",
       "init_win_bytes_backward        0.013662\n",
       "bwd_header_length              0.013093\n",
       "fwd_header_length              0.012887\n",
       "flow_iat_max                   0.012189\n",
       "total_length_of_fwd_packets    0.011770\n",
       "                                 ...   \n",
       "urg_flag_count                 0.003038\n",
       "min_seg_size_forward           0.002612\n",
       "ack_flag_count                 0.002612\n",
       "bwd_iat_max                    0.002594\n",
       "bwd_iat_total                  0.002413\n",
       "active_min                     0.002127\n",
       "active_mean                    0.002001\n",
       "bwd_iat_mean                   0.001956\n",
       "min_packet_length              0.001759\n",
       "active_std                     0.001531\n",
       "idle_std                       0.001521\n",
       "psh_flag_count                 0.001470\n",
       "bwd_iat_min                    0.001352\n",
       "active_max                     0.000941\n",
       "act_data_pkt_fwd               0.000896\n",
       "fwd_psh_flags                  0.000731\n",
       "syn_flag_count                 0.000628\n",
       "bwd_packet_length_min          0.000241\n",
       "fwd_urg_flags                  0.000000\n",
       "bwd_urg_flags                  0.000000\n",
       "bwd_psh_flags                  0.000000\n",
       "bwd_avg_bulk_rate              0.000000\n",
       "bwd_avg_packets_bulk           0.000000\n",
       "bwd_avg_bytes_bulk             0.000000\n",
       "fwd_avg_bulk_rate              0.000000\n",
       "fwd_avg_bytes_bulk             0.000000\n",
       "ece_flag_count                 0.000000\n",
       "cwe_flag_count                 0.000000\n",
       "rst_flag_count                 0.000000\n",
       "fwd_avg_packets_bulk           0.000000\n",
       "Length: 76, dtype: float64"
      ]
     },
     "execution_count": 42,
     "metadata": {},
     "output_type": "execute_result"
    }
   ],
   "source": [
    "feature_imp = pd.Series(clf.feature_importances_,index=feat).sort_values(ascending=False)\n",
    "feature_imp"
   ]
  },
  {
   "cell_type": "code",
   "execution_count": 45,
   "metadata": {},
   "outputs": [
    {
     "name": "stdout",
     "output_type": "stream",
     "text": [
      "Collecting seaborn\n",
      "\u001b[?25l  Downloading https://files.pythonhosted.org/packages/a8/76/220ba4420459d9c4c9c9587c6ce607bf56c25b3d3d2de62056efe482dadc/seaborn-0.9.0-py3-none-any.whl (208kB)\n",
      "\u001b[K    100% |████████████████████████████████| 215kB 853kB/s ta 0:00:01\n",
      "\u001b[?25hRequirement already satisfied: numpy>=1.9.3 in /home/zunaira/anaconda3/envs/tensorflow/lib/python3.6/site-packages (from seaborn) (1.15.4)\n",
      "Requirement already satisfied: scipy>=0.14.0 in /home/zunaira/anaconda3/envs/tensorflow/lib/python3.6/site-packages (from seaborn) (1.1.0)\n",
      "Requirement already satisfied: pandas>=0.15.2 in /home/zunaira/anaconda3/envs/tensorflow/lib/python3.6/site-packages (from seaborn) (0.23.4)\n",
      "Requirement already satisfied: matplotlib>=1.4.3 in /home/zunaira/anaconda3/envs/tensorflow/lib/python3.6/site-packages (from seaborn) (3.0.2)\n",
      "Requirement already satisfied: pytz>=2011k in /home/zunaira/anaconda3/envs/tensorflow/lib/python3.6/site-packages (from pandas>=0.15.2->seaborn) (2018.7)\n",
      "Requirement already satisfied: python-dateutil>=2.5.0 in /home/zunaira/anaconda3/envs/tensorflow/lib/python3.6/site-packages (from pandas>=0.15.2->seaborn) (2.7.5)\n",
      "Requirement already satisfied: pyparsing!=2.0.4,!=2.1.2,!=2.1.6,>=2.0.1 in /home/zunaira/anaconda3/envs/tensorflow/lib/python3.6/site-packages (from matplotlib>=1.4.3->seaborn) (2.3.0)\n",
      "Requirement already satisfied: kiwisolver>=1.0.1 in /home/zunaira/anaconda3/envs/tensorflow/lib/python3.6/site-packages (from matplotlib>=1.4.3->seaborn) (1.0.1)\n",
      "Requirement already satisfied: cycler>=0.10 in /home/zunaira/anaconda3/envs/tensorflow/lib/python3.6/site-packages (from matplotlib>=1.4.3->seaborn) (0.10.0)\n",
      "Requirement already satisfied: six>=1.5 in /home/zunaira/anaconda3/envs/tensorflow/lib/python3.6/site-packages (from python-dateutil>=2.5.0->pandas>=0.15.2->seaborn) (1.12.0)\n",
      "Requirement already satisfied: setuptools in /home/zunaira/anaconda3/envs/tensorflow/lib/python3.6/site-packages (from kiwisolver>=1.0.1->matplotlib>=1.4.3->seaborn) (40.6.3)\n",
      "Installing collected packages: seaborn\n",
      "Successfully installed seaborn-0.9.0\n"
     ]
    }
   ],
   "source": [
    "!pip install seaborn"
   ]
  },
  {
   "cell_type": "code",
   "execution_count": 46,
   "metadata": {},
   "outputs": [
    {
     "name": "stderr",
     "output_type": "stream",
     "text": [
      "No handles with labels found to put in legend.\n"
     ]
    },
    {
     "data": {
      "image/png": "[encoded data removed]",
      "text/plain": [
       "<Figure size 432x288 with 1 Axes>"
      ]
     },
     "metadata": {
      "needs_background": "light"
     },
     "output_type": "display_data"
    }
   ],
   "source": [
    "import seaborn as sns\n",
    "\n",
    "# Creating a bar plot\n",
    "sns.barplot(x=feature_imp, y=feature_imp.index)\n",
    "# Add labels to your graph\n",
    "plt.xlabel('Feature Importance Score')\n",
    "plt.ylabel('Features')\n",
    "plt.title(\"Visualizing Important Features\")\n",
    "plt.legend()\n",
    "plt.show()"
   ]
  },
  {
   "cell_type": "code",
   "execution_count": null,
   "metadata": {},
   "outputs": [],
   "source": []
  }
 ],
 "metadata": {
  "kernelspec": {
   "display_name": "Python 3",
   "language": "python",
   "name": "python3"
  },
  "language_info": {
   "codemirror_mode": {
    "name": "ipython",
    "version": 3
   },
   "file_extension": ".py",
   "mimetype": "text/x-python",
   "name": "python",
   "nbconvert_exporter": "python",
   "pygments_lexer": "ipython3",
   "version": "3.6.7"
  }
 },
 "nbformat": 4,
 "nbformat_minor": 2
}
